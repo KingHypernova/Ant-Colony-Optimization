{
 "cells": [
  {
   "cell_type": "code",
   "execution_count": 2,
   "metadata": {
    "collapsed": true
   },
   "outputs": [],
   "source": [
    "import ipywidgets as widget\n",
    "from IPython.display import display"
   ]
  },
  {
   "cell_type": "code",
   "execution_count": 3,
   "metadata": {
    "collapsed": true
   },
   "outputs": [],
   "source": [
    "def update(change):     # used to update simulation parameters\n",
    "  global x\n",
    "  x = change['new']"
   ]
  },
  {
   "cell_type": "code",
   "execution_count": 40,
   "metadata": {
    "collapsed": true
   },
   "outputs": [],
   "source": [
    "style = {'description_width': 'initial'}"
   ]
  },
  {
   "cell_type": "code",
   "execution_count": 52,
   "metadata": {
    "collapsed": false
   },
   "outputs": [
    {
     "ename": "SyntaxError",
     "evalue": "invalid syntax (<ipython-input-52-bb286326af46>, line 2)",
     "output_type": "error",
     "traceback": [
      "\u001b[0;36m  File \u001b[0;32m\"<ipython-input-52-bb286326af46>\"\u001b[0;36m, line \u001b[0;32m2\u001b[0m\n\u001b[0;31m    size_slider = widget.IntSlider(min=5,step=5,style=style))   # create slider w. stipulations\u001b[0m\n\u001b[0m                                                            ^\u001b[0m\n\u001b[0;31mSyntaxError\u001b[0m\u001b[0;31m:\u001b[0m invalid syntax\n"
     ]
    }
   ],
   "source": [
    "x = 10              # parameter that slider will update. default 10x10\n",
    "size_slider = widget.IntSlider(min=5,step=5,style=style)   # create slider w. stipulations\n",
    "size_slider.value = x   # set slider value to value of x\n",
    "size_slider.observe(update, 'value')   #retrieve slider value, using update function, update x\n",
    "widget.HBox([widget.Label('World Length'), size_slider])"
   ]
  },
  {
   "cell_type": "code",
   "execution_count": 46,
   "metadata": {
    "collapsed": true
   },
   "outputs": [],
   "source": [
    "ants = 10\n",
    "ant_slider = widget.IntSlider(min=1,step=1,description='# Ants')\n",
    "ant_slider.value = ants\n",
    "ant_slider.observe(update, 'value')"
   ]
  },
  {
   "cell_type": "code",
   "execution_count": 43,
   "metadata": {
    "collapsed": false
   },
   "outputs": [],
   "source": [
    "persistence = .95\n",
    "pher_slider = widget.FloatSlider(min=0.9,max=.999,step=.001,description='Pheromone Persistence',style=style)\n",
    "pher_slider.value = persistence\n",
    "pher_slider.observe(update, 'value')"
   ]
  },
  {
   "cell_type": "code",
   "execution_count": 44,
   "metadata": {
    "collapsed": false
   },
   "outputs": [],
   "source": [
    "display(size_slider,ant_slider,pher_slider)"
   ]
  },
  {
   "cell_type": "code",
   "execution_count": null,
   "metadata": {
    "collapsed": true
   },
   "outputs": [],
   "source": []
  }
 ],
 "metadata": {
  "anaconda-cloud": {},
  "kernelspec": {
   "display_name": "Python [default]",
   "language": "python",
   "name": "python3"
  },
  "language_info": {
   "codemirror_mode": {
    "name": "ipython",
    "version": 3
   },
   "file_extension": ".py",
   "mimetype": "text/x-python",
   "name": "python",
   "nbconvert_exporter": "python",
   "pygments_lexer": "ipython3",
   "version": "3.5.2"
  },
  "widgets": {
   "state": {
    "12451c45bf524ccfba139367e5025074": {
     "views": [
      {
       "cell_index": 4
      }
     ]
    },
    "62164c4026ab4950aa6f661eebf35c23": {
     "views": [
      {
       "cell_index": 4
      },
      {
       "cell_index": 4
      },
      {
       "cell_index": 5
      },
      {
       "cell_index": 5
      },
      {
       "cell_index": 5
      },
      {
       "cell_index": 5
      }
     ]
    },
    "660d3d4e229341728398faf9d5383f51": {
     "views": [
      {
       "cell_index": 6
      }
     ]
    },
    "7467d315faa84e1aac4192f3080f2063": {
     "views": [
      {
       "cell_index": 5
      },
      {
       "cell_index": 5
      }
     ]
    },
    "75b8d8ed233348a2937728c282ba4b12": {
     "views": [
      {
       "cell_index": 6
      }
     ]
    },
    "8cbad1fbb7174584868bd1325915b9cf": {
     "views": [
      {
       "cell_index": 5
      }
     ]
    },
    "a5350ff5f1cf45498b3194d3882f8982": {
     "views": [
      {
       "cell_index": 4
      },
      {
       "cell_index": 4
      }
     ]
    },
    "acf7d705c29e4f9190501e7cb7070588": {
     "views": [
      {
       "cell_index": 5
      }
     ]
    },
    "c8811a290b004266a3e2f2dce48463d5": {
     "views": [
      {
       "cell_index": 4
      }
     ]
    },
    "f750b9aa2c44482eb6b3be042fef66cd": {
     "views": [
      {
       "cell_index": 6
      }
     ]
    }
   },
   "version": "1.2.0"
  }
 },
 "nbformat": 4,
 "nbformat_minor": 1
}
