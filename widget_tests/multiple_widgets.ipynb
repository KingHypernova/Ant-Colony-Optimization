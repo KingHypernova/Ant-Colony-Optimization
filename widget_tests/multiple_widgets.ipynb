{
 "cells": [
  {
   "cell_type": "code",
   "execution_count": 1,
   "metadata": {
    "collapsed": true
   },
   "outputs": [],
   "source": [
    "import ipywidgets as widget\n",
    "from IPython.display import display"
   ]
  },
  {
   "cell_type": "code",
   "execution_count": 2,
   "metadata": {
    "collapsed": true
   },
   "outputs": [],
   "source": [
    "def update(change):     # used to update simulation parameters\n",
    "  global x\n",
    "  x = change['new']"
   ]
  },
  {
   "cell_type": "code",
   "execution_count": 3,
   "metadata": {
    "collapsed": true
   },
   "outputs": [],
   "source": [
    "style = {'description_width': 'initial'}"
   ]
  },
  {
   "cell_type": "code",
   "execution_count": 4,
   "metadata": {
    "collapsed": false
   },
   "outputs": [],
   "source": [
    "x = 10              # parameter that slider will update. default 10x10\n",
    "size_slider = widget.IntSlider(min=5,step=5,style=style)   # create slider w. stipulations\n",
    "size_slider.value = x   # set slider value to value of x\n",
    "size_slider.observe(update, 'value')   #retrieve slider value, using update function, update x\n",
    "widget.HBox([widget.Label('World Length'), size_slider])"
   ]
  },
  {
   "cell_type": "code",
   "execution_count": 10,
   "metadata": {
    "collapsed": true
   },
   "outputs": [],
   "source": [
    "ants = 10\n",
    "ant_slider = widget.IntSlider(min=1,step=1,description='# Ants')\n",
    "ant_slider.value = ants\n",
    "ant_slider.observe(update, 'value')"
   ]
  },
  {
   "cell_type": "code",
   "execution_count": 13,
   "metadata": {
    "collapsed": false
   },
   "outputs": [],
   "source": [
    "persistence = .95\n",
    "pher_slider = widget.FloatSlider(min=0.983,max=.992,step=.001,description='Pheromone Persistence',style=style)\n",
    "pher_slider.value = persistence\n",
    "pher_slider.observe(update, 'value')"
   ]
  },
  {
   "cell_type": "code",
   "execution_count": 14,
   "metadata": {
    "collapsed": false
   },
   "outputs": [],
   "source": [
    "display(size_slider,ant_slider,pher_slider)"
   ]
  },
  {
   "cell_type": "code",
   "execution_count": null,
   "metadata": {
    "collapsed": true
   },
   "outputs": [],
   "source": []
  }
 ],
 "metadata": {
  "anaconda-cloud": {},
  "kernelspec": {
   "display_name": "Python [default]",
   "language": "python",
   "name": "python3"
  },
  "language_info": {
   "codemirror_mode": {
    "name": "ipython",
    "version": 3
   },
   "file_extension": ".py",
   "mimetype": "text/x-python",
   "name": "python",
   "nbconvert_exporter": "python",
   "pygments_lexer": "ipython3",
   "version": "3.5.2"
  },
  "widgets": {
   "state": {
    "045beebdde7d4bc9b303155d478231ca": {
     "views": [
      {
       "cell_index": 6
      }
     ]
    },
    "5c840316ba0d46d79a71ed3357c47ddf": {
     "views": [
      {
       "cell_index": 3
      }
     ]
    },
    "7133c6205a1c4d38952fec07345dfb80": {
     "views": [
      {
       "cell_index": 6
      }
     ]
    },
    "9a70a7b3089740b19fc973d0a81f7922": {
     "views": [
      {
       "cell_index": 6
      },
      {
       "cell_index": 6
      }
     ]
    },
    "efb3cfff904444888ff8514456df4cb8": {
     "views": [
      {
       "cell_index": 6
      }
     ]
    }
   },
   "version": "1.2.0"
  }
 },
 "nbformat": 4,
 "nbformat_minor": 1
}
